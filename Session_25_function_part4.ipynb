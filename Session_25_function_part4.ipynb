{
 "cells": [
  {
   "cell_type": "code",
   "execution_count": null,
   "id": "a9d609a8",
   "metadata": {},
   "outputs": [],
   "source": [
    "synax:\n",
    "    \n",
    "    lambda arguments: expression"
   ]
  },
  {
   "cell_type": "code",
   "execution_count": 1,
   "id": "71f99bd3",
   "metadata": {},
   "outputs": [
    {
     "name": "stdout",
     "output_type": "stream",
     "text": [
      "20\n"
     ]
    }
   ],
   "source": [
    "#double the number by using lambda function\n",
    "\n",
    "double = lambda x : x * 2  \n",
    "print(double(10))"
   ]
  },
  {
   "cell_type": "code",
   "execution_count": 3,
   "id": "c5b893c1",
   "metadata": {},
   "outputs": [
    {
     "data": {
      "text/plain": [
       "100"
      ]
     },
     "execution_count": 3,
     "metadata": {},
     "output_type": "execute_result"
    }
   ],
   "source": [
    "double(50)"
   ]
  },
  {
   "cell_type": "code",
   "execution_count": 4,
   "id": "b5389bcd",
   "metadata": {},
   "outputs": [
    {
     "data": {
      "text/plain": [
       "84"
      ]
     },
     "execution_count": 4,
     "metadata": {},
     "output_type": "execute_result"
    }
   ],
   "source": [
    "def double1(x):\n",
    "    return x * 2\n",
    "\n",
    "double1(42)"
   ]
  },
  {
   "cell_type": "code",
   "execution_count": 5,
   "id": "98a6bad9",
   "metadata": {},
   "outputs": [
    {
     "name": "stdout",
     "output_type": "stream",
     "text": [
      "17\n"
     ]
    }
   ],
   "source": [
    "# simple Arithmetic with Lambda\n",
    "\n",
    "add = lambda x, y : x + y\n",
    "print(add(8,9))"
   ]
  },
  {
   "cell_type": "code",
   "execution_count": 10,
   "id": "80c8fa7e",
   "metadata": {},
   "outputs": [
    {
     "name": "stdout",
     "output_type": "stream",
     "text": [
      "[2, 4, 6, 8]\n"
     ]
    }
   ],
   "source": [
    "#Filter with lambda\n",
    "\n",
    "numbers = [1,2,3,4,5,6,7,8,9]\n",
    "\n",
    "even_number = list(filter(lambda x : x % 2 == 0, numbers)) \n",
    "print(even_number)\n"
   ]
  },
  {
   "cell_type": "code",
   "execution_count": 11,
   "id": "23907f93",
   "metadata": {},
   "outputs": [
    {
     "name": "stdout",
     "output_type": "stream",
     "text": [
      "[1, 4, 9, 16, 25]\n"
     ]
    }
   ],
   "source": [
    "# Map with lambda\n",
    "\n",
    "numbers = [1, 2, 3, 4, 5]\n",
    "\n",
    "square_value = list(map(lambda x : x ** 2, numbers))\n",
    "print(square_value)"
   ]
  },
  {
   "cell_type": "code",
   "execution_count": 12,
   "id": "08fa92c7",
   "metadata": {},
   "outputs": [
    {
     "name": "stdout",
     "output_type": "stream",
     "text": [
      "odd\n",
      "Even\n"
     ]
    }
   ],
   "source": [
    "# conditional Lambda\n",
    "even_odd = lambda x : 'Even' if x % 2 == 0 else 'odd'\n",
    "print(even_odd(9))\n",
    "print(even_odd(8))"
   ]
  },
  {
   "cell_type": "code",
   "execution_count": 13,
   "id": "96fd71cf",
   "metadata": {},
   "outputs": [
    {
     "name": "stdout",
     "output_type": "stream",
     "text": [
      "120\n"
     ]
    }
   ],
   "source": [
    "# Example with reduce()\n",
    "from functools import reduce\n",
    "\n",
    "lst = [1, 2, 3, 4, 5]\n",
    "\n",
    "product_lst = reduce(lambda x, y : x * y, lst)\n",
    "print(product_lst)\n"
   ]
  },
  {
   "cell_type": "code",
   "execution_count": 17,
   "id": "5da318d8",
   "metadata": {},
   "outputs": [
    {
     "name": "stdout",
     "output_type": "stream",
     "text": [
      "[('Alice', 95), ('Bob', 98), ('Eve', 100)]\n"
     ]
    }
   ],
   "source": [
    "#Sorting a List of Tuples by a key\n",
    "\n",
    "students = [('Alice', 95), ('1', 98), ('Eve', 100)]\n",
    "\n",
    "students.sort(key = lambda students : students[1])\n",
    "print(students)"
   ]
  },
  {
   "cell_type": "code",
   "execution_count": 27,
   "id": "65d03617",
   "metadata": {},
   "outputs": [
    {
     "name": "stdout",
     "output_type": "stream",
     "text": [
      "[('A', 50), ('C', 25), ('D', 200)]\n"
     ]
    }
   ],
   "source": [
    "#Sorting a List of Tuples by a key\n",
    "\n",
    "students = [('D', 200), ('A', 50), ('C', 25)]\n",
    "\n",
    "students.sort(key = lambda students : students[0])\n",
    "print(students)"
   ]
  },
  {
   "cell_type": "code",
   "execution_count": 39,
   "id": "84d7ac6c",
   "metadata": {},
   "outputs": [
    {
     "name": "stdout",
     "output_type": "stream",
     "text": [
      "{'Ruchi': 67, 'Bhagwan': 95, 'Anup': 99}\n"
     ]
    }
   ],
   "source": [
    "#Dictionary Sorting by Values\n",
    "\n",
    "grades = {'Anup' : 99, 'Bhagwan' : 95, 'Ruchi' : 67}\n",
    "\n",
    "sorted_grades = dict(sorted(grades.items(),key = lambda item : item[1]))\n",
    "print(sorted_grades)\n"
   ]
  },
  {
   "cell_type": "code",
   "execution_count": null,
   "id": "40fdf545",
   "metadata": {},
   "outputs": [],
   "source": [
    ",key=lambda item : item[1]"
   ]
  },
  {
   "cell_type": "code",
   "execution_count": 30,
   "id": "c28f0719",
   "metadata": {},
   "outputs": [
    {
     "data": {
      "text/plain": [
       "dict_items([('Anup', 99), ('Bhagwan', 95), ('Ruchi', 67)])"
      ]
     },
     "execution_count": 30,
     "metadata": {},
     "output_type": "execute_result"
    }
   ],
   "source": [
    "grades.items()"
   ]
  },
  {
   "cell_type": "code",
   "execution_count": null,
   "id": "d716dded",
   "metadata": {},
   "outputs": [],
   "source": [
    "[('Anup', 99), ('Bhagwan', 95), ('Ruchi', 67)]"
   ]
  },
  {
   "cell_type": "code",
   "execution_count": null,
   "id": "30637634",
   "metadata": {},
   "outputs": [],
   "source": []
  },
  {
   "cell_type": "code",
   "execution_count": null,
   "id": "4bb3d056",
   "metadata": {},
   "outputs": [],
   "source": []
  },
  {
   "cell_type": "code",
   "execution_count": null,
   "id": "1d25288e",
   "metadata": {},
   "outputs": [],
   "source": []
  },
  {
   "cell_type": "code",
   "execution_count": null,
   "id": "96d85e78",
   "metadata": {},
   "outputs": [],
   "source": []
  },
  {
   "cell_type": "code",
   "execution_count": null,
   "id": "e1822804",
   "metadata": {},
   "outputs": [],
   "source": []
  },
  {
   "cell_type": "code",
   "execution_count": null,
   "id": "ce73acdf",
   "metadata": {},
   "outputs": [],
   "source": []
  },
  {
   "cell_type": "code",
   "execution_count": null,
   "id": "ba6b528a",
   "metadata": {},
   "outputs": [],
   "source": []
  },
  {
   "cell_type": "code",
   "execution_count": null,
   "id": "16892c30",
   "metadata": {},
   "outputs": [],
   "source": []
  },
  {
   "cell_type": "code",
   "execution_count": null,
   "id": "13a3cff2",
   "metadata": {},
   "outputs": [],
   "source": []
  },
  {
   "cell_type": "code",
   "execution_count": null,
   "id": "7cf4e1bc",
   "metadata": {},
   "outputs": [],
   "source": []
  },
  {
   "cell_type": "code",
   "execution_count": null,
   "id": "022f4b5d",
   "metadata": {},
   "outputs": [],
   "source": []
  }
 ],
 "metadata": {
  "kernelspec": {
   "display_name": "Python 3 (ipykernel)",
   "language": "python",
   "name": "python3"
  },
  "language_info": {
   "codemirror_mode": {
    "name": "ipython",
    "version": 3
   },
   "file_extension": ".py",
   "mimetype": "text/x-python",
   "name": "python",
   "nbconvert_exporter": "python",
   "pygments_lexer": "ipython3",
   "version": "3.11.4"
  }
 },
 "nbformat": 4,
 "nbformat_minor": 5
}
